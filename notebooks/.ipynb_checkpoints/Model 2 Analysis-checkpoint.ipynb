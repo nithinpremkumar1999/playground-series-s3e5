{
 "cells": [
  {
   "cell_type": "markdown",
   "id": "b92de9ee",
   "metadata": {},
   "source": [
    "<h1><center>Model 2: K Nearest Neighbors Performance</center></h1>"
   ]
  },
  {
   "cell_type": "markdown",
   "id": "83468501",
   "metadata": {},
   "source": [
    "This notebook will look into the performance of the model on the training dataset, inorder to find where and how to improve on future models."
   ]
  },
  {
   "cell_type": "markdown",
   "id": "eda8a05f",
   "metadata": {},
   "source": [
    "## Import Libraries"
   ]
  },
  {
   "cell_type": "code",
   "execution_count": 1,
   "id": "b9712b88",
   "metadata": {},
   "outputs": [],
   "source": [
    "import sys\n",
    "sys.path.append(\"C:\\Project\\playground-series-s3e5\\src\")\n",
    "\n",
    "from target_mapping import *\n",
    "from sklearn.metrics import confusion_matrix, ConfusionMatrixDisplay\n",
    "import pandas as pd\n",
    "import joblib\n",
    "import matplotlib.pyplot as plt\n",
    "import seaborn as sns"
   ]
  },
  {
   "cell_type": "markdown",
   "id": "52e78a8c",
   "metadata": {},
   "source": [
    "## Import Dataset"
   ]
  },
  {
   "cell_type": "code",
   "execution_count": 2,
   "id": "129f3d9b",
   "metadata": {},
   "outputs": [
    {
     "data": {
      "text/html": [
       "<div>\n",
       "<style scoped>\n",
       "    .dataframe tbody tr th:only-of-type {\n",
       "        vertical-align: middle;\n",
       "    }\n",
       "\n",
       "    .dataframe tbody tr th {\n",
       "        vertical-align: top;\n",
       "    }\n",
       "\n",
       "    .dataframe thead th {\n",
       "        text-align: right;\n",
       "    }\n",
       "</style>\n",
       "<table border=\"1\" class=\"dataframe\">\n",
       "  <thead>\n",
       "    <tr style=\"text-align: right;\">\n",
       "      <th></th>\n",
       "      <th>quality</th>\n",
       "      <th>trans_citric_acid</th>\n",
       "      <th>pca1</th>\n",
       "      <th>pca2</th>\n",
       "      <th>pca3</th>\n",
       "      <th>pca4</th>\n",
       "      <th>pca5</th>\n",
       "    </tr>\n",
       "  </thead>\n",
       "  <tbody>\n",
       "    <tr>\n",
       "      <th>0</th>\n",
       "      <td>6</td>\n",
       "      <td>0.574595</td>\n",
       "      <td>-1.424641</td>\n",
       "      <td>0.084614</td>\n",
       "      <td>0.139190</td>\n",
       "      <td>0.017038</td>\n",
       "      <td>-0.001012</td>\n",
       "    </tr>\n",
       "    <tr>\n",
       "      <th>1</th>\n",
       "      <td>6</td>\n",
       "      <td>2.806711</td>\n",
       "      <td>-2.059772</td>\n",
       "      <td>-0.036339</td>\n",
       "      <td>-0.764453</td>\n",
       "      <td>0.231441</td>\n",
       "      <td>0.001443</td>\n",
       "    </tr>\n",
       "    <tr>\n",
       "      <th>2</th>\n",
       "      <td>7</td>\n",
       "      <td>-0.991746</td>\n",
       "      <td>-0.807816</td>\n",
       "      <td>0.064889</td>\n",
       "      <td>1.641203</td>\n",
       "      <td>-0.016858</td>\n",
       "      <td>0.000201</td>\n",
       "    </tr>\n",
       "    <tr>\n",
       "      <th>3</th>\n",
       "      <td>5</td>\n",
       "      <td>-0.227777</td>\n",
       "      <td>0.309183</td>\n",
       "      <td>-0.098466</td>\n",
       "      <td>-0.682202</td>\n",
       "      <td>-0.339941</td>\n",
       "      <td>0.000703</td>\n",
       "    </tr>\n",
       "    <tr>\n",
       "      <th>4</th>\n",
       "      <td>6</td>\n",
       "      <td>0.235509</td>\n",
       "      <td>0.751813</td>\n",
       "      <td>0.421726</td>\n",
       "      <td>-0.053477</td>\n",
       "      <td>0.160119</td>\n",
       "      <td>-0.002452</td>\n",
       "    </tr>\n",
       "  </tbody>\n",
       "</table>\n",
       "</div>"
      ],
      "text/plain": [
       "   quality  trans_citric_acid      pca1      pca2      pca3      pca4  \\\n",
       "0        6           0.574595 -1.424641  0.084614  0.139190  0.017038   \n",
       "1        6           2.806711 -2.059772 -0.036339 -0.764453  0.231441   \n",
       "2        7          -0.991746 -0.807816  0.064889  1.641203 -0.016858   \n",
       "3        5          -0.227777  0.309183 -0.098466 -0.682202 -0.339941   \n",
       "4        6           0.235509  0.751813  0.421726 -0.053477  0.160119   \n",
       "\n",
       "       pca5  \n",
       "0 -0.001012  \n",
       "1  0.001443  \n",
       "2  0.000201  \n",
       "3  0.000703  \n",
       "4 -0.002452  "
      ]
     },
     "execution_count": 2,
     "metadata": {},
     "output_type": "execute_result"
    }
   ],
   "source": [
    "train = pd.read_csv(\"../data/feature_engineered_data/train.csv\")\n",
    "train.head()"
   ]
  },
  {
   "cell_type": "markdown",
   "id": "5e815da6",
   "metadata": {},
   "source": [
    "## Import Model"
   ]
  },
  {
   "cell_type": "code",
   "execution_count": 1,
   "id": "b878169e",
   "metadata": {},
   "outputs": [
    {
     "ename": "NameError",
     "evalue": "name 'joblib' is not defined",
     "output_type": "error",
     "traceback": [
      "\u001b[1;31m---------------------------------------------------------------------------\u001b[0m",
      "\u001b[1;31mNameError\u001b[0m                                 Traceback (most recent call last)",
      "Cell \u001b[1;32mIn[1], line 1\u001b[0m\n\u001b[1;32m----> 1\u001b[0m model \u001b[38;5;241m=\u001b[39m \u001b[43mjoblib\u001b[49m\u001b[38;5;241m.\u001b[39mload(\u001b[38;5;124m\"\u001b[39m\u001b[38;5;124m../models/model2.pkl\u001b[39m\u001b[38;5;124m\"\u001b[39m)\n\u001b[0;32m      2\u001b[0m model\n",
      "\u001b[1;31mNameError\u001b[0m: name 'joblib' is not defined"
     ]
    }
   ],
   "source": [
    "model = joblib.load(\"../models/model2.pkl\")\n",
    "model"
   ]
  },
  {
   "cell_type": "markdown",
   "id": "d6a15a92",
   "metadata": {},
   "source": [
    "## Analysis"
   ]
  },
  {
   "cell_type": "code",
   "execution_count": 4,
   "id": "23dd84c4",
   "metadata": {},
   "outputs": [],
   "source": [
    "y_pred = model.predict(train.loc[:, train.columns!=\"quality\"])\n",
    "y_pred = pd.DataFrame(y_pred, columns=[\"quality\"])\n",
    "y_pred = encoding_to_target(y_pred.quality)\n",
    "y_true = train.quality"
   ]
  },
  {
   "cell_type": "code",
   "execution_count": 5,
   "id": "6231b0db",
   "metadata": {},
   "outputs": [],
   "source": [
    "matrix = confusion_matrix(y_true, y_pred, labels=[3, 4, 5, 6, 7, 8])\n",
    "matrix = pd.DataFrame(matrix, columns=[3, 4, 5, 6, 7, 8], index=[3, 4, 5, 6, 7, 8])"
   ]
  },
  {
   "cell_type": "code",
   "execution_count": 6,
   "id": "b31a41a7",
   "metadata": {},
   "outputs": [
    {
     "data": {
      "image/png": "[encoded data removed]",
      "text/plain": [
       "<Figure size 1000x1000 with 2 Axes>"
      ]
     },
     "metadata": {},
     "output_type": "display_data"
    }
   ],
   "source": [
    "plt.figure(figsize=(10,10))\n",
    "sns.heatmap(matrix, annot=True)\n",
    "plt.title('Confusion Matrix')\n",
    "plt.ylabel('True Values')\n",
    "plt.xlabel('Predicted Values')\n",
    "plt.show()"
   ]
  },
  {
   "cell_type": "markdown",
   "id": "c01ba3e6",
   "metadata": {},
   "source": [
    "Despite performing SMOTE to account for imbalanced data, from the above heatmap we can see that classes with least amount of data in training set had the highest misclassification errror."
   ]
  }
 ],
 "metadata": {
  "kernelspec": {
   "display_name": "Python 3 (ipykernel)",
   "language": "python",
   "name": "python3"
  },
  "language_info": {
   "codemirror_mode": {
    "name": "ipython",
    "version": 3
   },
   "file_extension": ".py",
   "mimetype": "text/x-python",
   "name": "python",
   "nbconvert_exporter": "python",
   "pygments_lexer": "ipython3",
   "version": "3.11.1"
  }
 },
 "nbformat": 4,
 "nbformat_minor": 5
}
